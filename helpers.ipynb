{
 "cells": [
  {
   "cell_type": "code",
   "execution_count": 6,
   "metadata": {},
   "outputs": [
    {
     "name": "stdout",
     "output_type": "stream",
     "text": [
      "(5, -1, 1)\n"
     ]
    }
   ],
   "source": [
    "def extended_greatest_common_divisor(a, b):\n",
    "    \"\"\"return (g, x, y) such that a*x + b*y = g = gcd(a, b)\"\"\"\n",
    "    x0, x1, y0, y1 = 0, 1, 1, 0\n",
    "    while a != 0:\n",
    "        q, b, a = b // a, a, b % a\n",
    "        y0, y1 = y1, y0 - q * y1\n",
    "        x0, x1 = x1, x0 - q * x1\n",
    "    return b, x0, y0\n",
    "\n",
    "print(extended_greatest_common_divisor(10,15))\n"
   ]
  },
  {
   "cell_type": "code",
   "execution_count": 7,
   "metadata": {},
   "outputs": [
    {
     "name": "stdout",
     "output_type": "stream",
     "text": [
      "29\n"
     ]
    }
   ],
   "source": [
    "def modular_inverse(a, b):\n",
    "    \"\"\"return x such x*a mod b = 1\"\"\"\n",
    "    gcd, x, _ = extended_greatest_common_divisor(a, b)\n",
    "    return x % b\n",
    "\n",
    "print(modular_inverse(5, 72))"
   ]
  },
  {
   "cell_type": "code",
   "execution_count": 8,
   "metadata": {},
   "outputs": [
    {
     "name": "stdout",
     "output_type": "stream",
     "text": [
      "30\n"
     ]
    }
   ],
   "source": [
    "def least_common_multiple(x, y):\n",
    "   gcd, _, _ = extended_greatest_common_divisor(x,y)\n",
    "   lcm = (x*y)//gcd\n",
    "   return lcm\n",
    "\n",
    "print(least_common_multiple(10, 15))"
   ]
  },
  {
   "cell_type": "code",
   "execution_count": 10,
   "metadata": {},
   "outputs": [
    {
     "name": "stdout",
     "output_type": "stream",
     "text": [
      "8\n"
     ]
    }
   ],
   "source": [
    "def square_and_multiply(x, k, p=None):\n",
    "    \"\"\"\n",
    "    Square and Multiply Algorithm\n",
    "    Parameters: positive integer x and integer exponent k,\n",
    "                optional modulus p\n",
    "    Returns: x**k or x**k mod p when p is given\n",
    "    \"\"\"\n",
    "    b = bin(k).lstrip('0b')\n",
    "    r = 1\n",
    "    for i in b:\n",
    "        r = r**2\n",
    "        if i == '1':\n",
    "            r = r * x\n",
    "        if p:\n",
    "            r %= p\n",
    "    return r\n",
    "\n",
    "print(square_and_multiply(2, 3))"
   ]
  }
 ],
 "metadata": {
  "kernelspec": {
   "display_name": "Python 3",
   "language": "python",
   "name": "python3"
  },
  "language_info": {
   "codemirror_mode": {
    "name": "ipython",
    "version": 3
   },
   "file_extension": ".py",
   "mimetype": "text/x-python",
   "name": "python",
   "nbconvert_exporter": "python",
   "pygments_lexer": "ipython3",
   "version": "3.7.1"
  }
 },
 "nbformat": 4,
 "nbformat_minor": 2
}
