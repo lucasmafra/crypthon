{
 "cells": [
  {
   "cell_type": "markdown",
   "metadata": {},
   "source": [
    "# RSA implementation\n",
    "\n",
    "Simple [PKCS1](https://www.ietf.org/rfc/rfc2437.txt) RSA implementation"
   ]
  },
  {
   "cell_type": "code",
   "execution_count": 200,
   "metadata": {},
   "outputs": [],
   "source": [
    "import helpers"
   ]
  },
  {
   "cell_type": "code",
   "execution_count": 201,
   "metadata": {},
   "outputs": [],
   "source": [
    "def modulus(p, q):\n",
    "    return p*q"
   ]
  },
  {
   "cell_type": "code",
   "execution_count": 202,
   "metadata": {},
   "outputs": [
    {
     "data": {
      "text/plain": [
       "91"
      ]
     },
     "execution_count": 202,
     "metadata": {},
     "output_type": "execute_result"
    }
   ],
   "source": [
    "modulus(7, 13)"
   ]
  },
  {
   "cell_type": "code",
   "execution_count": 203,
   "metadata": {},
   "outputs": [
    {
     "name": "stdout",
     "output_type": "stream",
     "text": [
      "5\n"
     ]
    }
   ],
   "source": [
    "def rsa_public_exponent(p,q,n):\n",
    "    lcm = helpers.least_common_multiple(p-1, q-1)\n",
    "    for candidate in range (3, n):\n",
    "        gcd, _, _ = helpers.extended_greatest_common_divisor(candidate, lcm)\n",
    "        if gcd == 1:\n",
    "            return candidate\n",
    "        \n",
    "print(rsa_public_exponent(7,13,91))"
   ]
  },
  {
   "cell_type": "code",
   "execution_count": 204,
   "metadata": {},
   "outputs": [
    {
     "name": "stdout",
     "output_type": "stream",
     "text": [
      "29\n"
     ]
    }
   ],
   "source": [
    "def rsa_private_exponent(p, q, e):\n",
    "    return helpers.modular_inverse(e, (p-1)*(q-1))\n",
    "\n",
    "print(rsa_private_exponent(7,13,5))"
   ]
  },
  {
   "cell_type": "code",
   "execution_count": 205,
   "metadata": {},
   "outputs": [],
   "source": [
    "def find_one_large_prime():\n",
    "    return 7\n",
    "\n",
    "def find_another_large_prime():\n",
    "    return 13\n",
    "\n",
    "def rsa_generate_key_pair(p=None, q=None):\n",
    "    p = p or find_one_large_prime()\n",
    "    q = q or find_another_large_prime()\n",
    "    \n",
    "    n = modulus(p,q)\n",
    "    \n",
    "    public_key = n, rsa_public_exponent(p,q,n)\n",
    "    \n",
    "    e = public_key[1]\n",
    "    \n",
    "    private_key = n, rsa_private_exponent(p,q,e)\n",
    "    \n",
    "    return public_key, private_key"
   ]
  },
  {
   "cell_type": "code",
   "execution_count": 206,
   "metadata": {},
   "outputs": [
    {
     "name": "stdout",
     "output_type": "stream",
     "text": [
      "(91, 5)\n",
      "(91, 29)\n"
     ]
    }
   ],
   "source": [
    "public_key, private_key = rsa_generate_key_pair()\n",
    "\n",
    "print(public_key)\n",
    "print(private_key)"
   ]
  },
  {
   "cell_type": "code",
   "execution_count": 207,
   "metadata": {},
   "outputs": [],
   "source": [
    "def rsa_encrypt(message, public_key):\n",
    "    n = public_key[0]\n",
    "    e = public_key[1]\n",
    "    return helpers.square_and_multiply(message, e, n)"
   ]
  },
  {
   "cell_type": "code",
   "execution_count": 208,
   "metadata": {},
   "outputs": [
    {
     "data": {
      "text/plain": [
       "82"
      ]
     },
     "execution_count": 208,
     "metadata": {},
     "output_type": "execute_result"
    }
   ],
   "source": [
    "rsa_encrypt(10, public_key)"
   ]
  },
  {
   "cell_type": "code",
   "execution_count": 209,
   "metadata": {},
   "outputs": [],
   "source": [
    "def rsa_decrypt(cipher_text, private_key):\n",
    "    n = private_key[0]\n",
    "    d = private_key[1]\n",
    "    return helpers.square_and_multiply(cipher_text, d, n)"
   ]
  },
  {
   "cell_type": "code",
   "execution_count": 210,
   "metadata": {},
   "outputs": [
    {
     "data": {
      "text/plain": [
       "10"
      ]
     },
     "execution_count": 210,
     "metadata": {},
     "output_type": "execute_result"
    }
   ],
   "source": [
    "rsa_decrypt(82, private_key)"
   ]
  },
  {
   "cell_type": "code",
   "execution_count": 211,
   "metadata": {},
   "outputs": [],
   "source": [
    "def rsa_sign(message, private_key):\n",
    "    n = private_key[0]\n",
    "    d = private_key[1]\n",
    "    return helpers.square_and_multiply(message, d, n)"
   ]
  },
  {
   "cell_type": "code",
   "execution_count": 212,
   "metadata": {},
   "outputs": [
    {
     "data": {
      "text/plain": [
       "35"
      ]
     },
     "execution_count": 212,
     "metadata": {},
     "output_type": "execute_result"
    }
   ],
   "source": [
    "rsa_sign(42, private_key)"
   ]
  },
  {
   "cell_type": "code",
   "execution_count": 213,
   "metadata": {},
   "outputs": [],
   "source": [
    "def rsa_verify(signature, message, public_key):\n",
    "    n = public_key[0]\n",
    "    e = public_key[1]\n",
    "    decrypted = rsa_decrypt(signature, public_key)\n",
    "    if decrypted != message:\n",
    "        raise Exception(\"Oh oh, invalid signature :sadpanda\")    \n",
    "    return True"
   ]
  },
  {
   "cell_type": "code",
   "execution_count": 214,
   "metadata": {},
   "outputs": [
    {
     "data": {
      "text/plain": [
       "True"
      ]
     },
     "execution_count": 214,
     "metadata": {},
     "output_type": "execute_result"
    }
   ],
   "source": [
    "rsa_verify(35, 42, public_key)"
   ]
  },
  {
   "cell_type": "markdown",
   "metadata": {},
   "source": [
    "# Solving confidentiality, integrity and non-repudiation with RSA:"
   ]
  },
  {
   "cell_type": "markdown",
   "metadata": {},
   "source": [
    "Alice wants to send \"42\" to Bob.\n",
    "\n",
    "They want to make sure that:\n",
    "\n",
    "1) No one besides Bob can understand the message (confidentiality)\n",
    "\n",
    "2) The message Bob gets was not altered in the way (integrity)\n",
    "\n",
    "3) Alice is really the person sending the message (non-repudiation)"
   ]
  },
  {
   "cell_type": "markdown",
   "metadata": {},
   "source": [
    "### Adressing confidentiality with RSA"
   ]
  },
  {
   "cell_type": "code",
   "execution_count": 215,
   "metadata": {},
   "outputs": [
    {
     "name": "stdout",
     "output_type": "stream",
     "text": [
      "((250108506076839141064360843, 3), (250108506076839141064360843, 166739004051204990338634267))\n",
      "((17198136758161599975847831, 5), (17198136758161599975847831, 3439627351630632451133093))\n"
     ]
    }
   ],
   "source": [
    "alice_public_key, alice_private_key = rsa_generate_key_pair(16468134996701, 15187421412743) # two random large primes\n",
    "bob_public_key, bob_private_key = rsa_generate_key_pair(4993872162589, 3443848019779) # another two random large primes\n",
    "\n",
    "print((alice_public_key, alice_private_key))\n",
    "print((bob_public_key, bob_private_key))\n",
    "\n",
    "def send_message_to_bob(message):\n",
    "    return rsa_encrypt(message, bob_public_key)"
   ]
  },
  {
   "cell_type": "code",
   "execution_count": 216,
   "metadata": {},
   "outputs": [
    {
     "data": {
      "text/plain": [
       "130691232"
      ]
     },
     "execution_count": 216,
     "metadata": {},
     "output_type": "execute_result"
    }
   ],
   "source": [
    "send_message_from_alice_to_bob(42)"
   ]
  },
  {
   "cell_type": "code",
   "execution_count": 217,
   "metadata": {},
   "outputs": [],
   "source": [
    "def bob_read_message(message):\n",
    "    return rsa_decrypt(message, bob_private_key)"
   ]
  },
  {
   "cell_type": "code",
   "execution_count": 218,
   "metadata": {},
   "outputs": [
    {
     "data": {
      "text/plain": [
       "42"
      ]
     },
     "execution_count": 218,
     "metadata": {},
     "output_type": "execute_result"
    }
   ],
   "source": [
    "bob_read_message(130691232)"
   ]
  },
  {
   "cell_type": "markdown",
   "metadata": {},
   "source": [
    "***No one besides Bob can understand the message as long as he is the only person in the world possessing the private key!!!***"
   ]
  },
  {
   "cell_type": "markdown",
   "metadata": {},
   "source": [
    "# But how can Bob be sure that the sender is really Alice? How can he be sure that the message is not altered?"
   ]
  },
  {
   "cell_type": "markdown",
   "metadata": {},
   "source": [
    "Answer: With encryption only, he can't!!! That's why we use signature!"
   ]
  },
  {
   "cell_type": "code",
   "execution_count": 219,
   "metadata": {},
   "outputs": [],
   "source": [
    "def alice_send_message_to_bob(message):\n",
    "    signature = rsa_sign(message, alice_private_key)\n",
    "    encrypted_payload = rsa_encrypt(message, bob_public_key)\n",
    "    return signature,encrypted_payload"
   ]
  },
  {
   "cell_type": "code",
   "execution_count": 220,
   "metadata": {},
   "outputs": [
    {
     "name": "stdout",
     "output_type": "stream",
     "text": [
      "((193211785415077821557812321, 5), (193211785415077821557812321, 77284714166019990093309869))\n"
     ]
    }
   ],
   "source": [
    "# our man in the middle\n",
    "charlie_public_key, charlie_private_key = rsa_generate_key_pair(14724824385277, 13121500152373)\n",
    "\n",
    "print((charlie_public_key, charlie_private_key))\n",
    "\n",
    "def charlie_send_message_to_bob(message):\n",
    "    signature = rsa_sign(message, charlie_private_key)\n",
    "    encrypted_payload = rsa_encrypt(message, charlie_public_key)\n",
    "    return signature,encrypted_payload"
   ]
  },
  {
   "cell_type": "code",
   "execution_count": 221,
   "metadata": {},
   "outputs": [
    {
     "data": {
      "text/plain": [
       "(99863407955117330381311434, 130691232)"
      ]
     },
     "execution_count": 221,
     "metadata": {},
     "output_type": "execute_result"
    }
   ],
   "source": [
    "alice_send_message_to_bob(42)"
   ]
  },
  {
   "cell_type": "code",
   "execution_count": 222,
   "metadata": {},
   "outputs": [
    {
     "data": {
      "text/plain": [
       "(60708453582239734568617826, 130691232)"
      ]
     },
     "execution_count": 222,
     "metadata": {},
     "output_type": "execute_result"
    }
   ],
   "source": [
    "charlie_send_message_to_bob(42)"
   ]
  },
  {
   "cell_type": "code",
   "execution_count": 223,
   "metadata": {},
   "outputs": [
    {
     "data": {
      "text/plain": [
       "(110930490035495277190753757, 4182119424)"
      ]
     },
     "execution_count": 223,
     "metadata": {},
     "output_type": "execute_result"
    }
   ],
   "source": [
    "charlie_send_message_to_bob(84)"
   ]
  },
  {
   "cell_type": "code",
   "execution_count": 224,
   "metadata": {},
   "outputs": [],
   "source": [
    "def bob_read_message_from_alice(message):\n",
    "    signature, encrypted_payload = message\n",
    "    decrypted_message = rsa_decrypt(encrypted_payload, bob_private_key)\n",
    "    rsa_verify(signature, decrypted_message, alice_public_key)\n",
    "    return decrypted_message"
   ]
  },
  {
   "cell_type": "code",
   "execution_count": 225,
   "metadata": {},
   "outputs": [
    {
     "data": {
      "text/plain": [
       "42"
      ]
     },
     "execution_count": 225,
     "metadata": {},
     "output_type": "execute_result"
    }
   ],
   "source": [
    "bob_read_message_from_alice((99863407955117330381311434, 130691232))"
   ]
  },
  {
   "cell_type": "code",
   "execution_count": 226,
   "metadata": {},
   "outputs": [
    {
     "ename": "Exception",
     "evalue": "Oh oh, invalid signature :sadpanda",
     "output_type": "error",
     "traceback": [
      "\u001b[0;31m---------------------------------------------------------------------------\u001b[0m",
      "\u001b[0;31mException\u001b[0m                                 Traceback (most recent call last)",
      "\u001b[0;32m<ipython-input-226-a56a5bed2431>\u001b[0m in \u001b[0;36m<module>\u001b[0;34m\u001b[0m\n\u001b[0;32m----> 1\u001b[0;31m \u001b[0mbob_read_message_from_alice\u001b[0m\u001b[0;34m(\u001b[0m\u001b[0;34m(\u001b[0m\u001b[0;36m60708453582239734568617826\u001b[0m\u001b[0;34m,\u001b[0m \u001b[0;36m130691232\u001b[0m\u001b[0;34m)\u001b[0m\u001b[0;34m)\u001b[0m\u001b[0;34m\u001b[0m\u001b[0;34m\u001b[0m\u001b[0m\n\u001b[0m",
      "\u001b[0;32m<ipython-input-224-a94d2cd908ed>\u001b[0m in \u001b[0;36mbob_read_message_from_alice\u001b[0;34m(message)\u001b[0m\n\u001b[1;32m      2\u001b[0m     \u001b[0msignature\u001b[0m\u001b[0;34m,\u001b[0m \u001b[0mencrypted_payload\u001b[0m \u001b[0;34m=\u001b[0m \u001b[0mmessage\u001b[0m\u001b[0;34m\u001b[0m\u001b[0;34m\u001b[0m\u001b[0m\n\u001b[1;32m      3\u001b[0m     \u001b[0mdecrypted_message\u001b[0m \u001b[0;34m=\u001b[0m \u001b[0mrsa_decrypt\u001b[0m\u001b[0;34m(\u001b[0m\u001b[0mencrypted_payload\u001b[0m\u001b[0;34m,\u001b[0m \u001b[0mbob_private_key\u001b[0m\u001b[0;34m)\u001b[0m\u001b[0;34m\u001b[0m\u001b[0;34m\u001b[0m\u001b[0m\n\u001b[0;32m----> 4\u001b[0;31m     \u001b[0mrsa_verify\u001b[0m\u001b[0;34m(\u001b[0m\u001b[0msignature\u001b[0m\u001b[0;34m,\u001b[0m \u001b[0mdecrypted_message\u001b[0m\u001b[0;34m,\u001b[0m \u001b[0malice_public_key\u001b[0m\u001b[0;34m)\u001b[0m\u001b[0;34m\u001b[0m\u001b[0;34m\u001b[0m\u001b[0m\n\u001b[0m\u001b[1;32m      5\u001b[0m     \u001b[0;32mreturn\u001b[0m \u001b[0mdecrypted_message\u001b[0m\u001b[0;34m\u001b[0m\u001b[0;34m\u001b[0m\u001b[0m\n",
      "\u001b[0;32m<ipython-input-213-c3848a81fa09>\u001b[0m in \u001b[0;36mrsa_verify\u001b[0;34m(signature, message, public_key)\u001b[0m\n\u001b[1;32m      4\u001b[0m     \u001b[0mdecrypted\u001b[0m \u001b[0;34m=\u001b[0m \u001b[0mrsa_decrypt\u001b[0m\u001b[0;34m(\u001b[0m\u001b[0msignature\u001b[0m\u001b[0;34m,\u001b[0m \u001b[0mpublic_key\u001b[0m\u001b[0;34m)\u001b[0m\u001b[0;34m\u001b[0m\u001b[0;34m\u001b[0m\u001b[0m\n\u001b[1;32m      5\u001b[0m     \u001b[0;32mif\u001b[0m \u001b[0mdecrypted\u001b[0m \u001b[0;34m!=\u001b[0m \u001b[0mmessage\u001b[0m\u001b[0;34m:\u001b[0m\u001b[0;34m\u001b[0m\u001b[0;34m\u001b[0m\u001b[0m\n\u001b[0;32m----> 6\u001b[0;31m         \u001b[0;32mraise\u001b[0m \u001b[0mException\u001b[0m\u001b[0;34m(\u001b[0m\u001b[0;34m\"Oh oh, invalid signature :sadpanda\"\u001b[0m\u001b[0;34m)\u001b[0m\u001b[0;34m\u001b[0m\u001b[0;34m\u001b[0m\u001b[0m\n\u001b[0m\u001b[1;32m      7\u001b[0m     \u001b[0;32mreturn\u001b[0m \u001b[0;32mTrue\u001b[0m\u001b[0;34m\u001b[0m\u001b[0;34m\u001b[0m\u001b[0m\n",
      "\u001b[0;31mException\u001b[0m: Oh oh, invalid signature :sadpanda"
     ]
    }
   ],
   "source": [
    "bob_read_message_from_alice((60708453582239734568617826, 130691232))"
   ]
  },
  {
   "cell_type": "code",
   "execution_count": 1,
   "metadata": {},
   "outputs": [
    {
     "ename": "NameError",
     "evalue": "name 'bob_read_message_from_alice' is not defined",
     "output_type": "error",
     "traceback": [
      "\u001b[0;31m---------------------------------------------------------------------------\u001b[0m",
      "\u001b[0;31mNameError\u001b[0m                                 Traceback (most recent call last)",
      "\u001b[0;32m<ipython-input-1-a1842d4c261d>\u001b[0m in \u001b[0;36m<module>\u001b[0;34m\u001b[0m\n\u001b[0;32m----> 1\u001b[0;31m \u001b[0mbob_read_message_from_alice\u001b[0m\u001b[0;34m(\u001b[0m\u001b[0;34m(\u001b[0m\u001b[0;36m99863407955117330381311434\u001b[0m\u001b[0;34m,\u001b[0m \u001b[0;36m4182119424\u001b[0m\u001b[0;34m)\u001b[0m\u001b[0;34m)\u001b[0m\u001b[0;34m\u001b[0m\u001b[0;34m\u001b[0m\u001b[0m\n\u001b[0m",
      "\u001b[0;31mNameError\u001b[0m: name 'bob_read_message_from_alice' is not defined"
     ]
    }
   ],
   "source": [
    "bob_read_message_from_alice((99863407955117330381311434, 4182119424))"
   ]
  },
  {
   "cell_type": "markdown",
   "metadata": {},
   "source": [
    "# OS2IP"
   ]
  },
  {
   "cell_type": "markdown",
   "metadata": {},
   "source": [
    "***Signature solves both integrity AND non-repudiation problems!!!***"
   ]
  },
  {
   "cell_type": "code",
   "execution_count": 52,
   "metadata": {},
   "outputs": [
    {
     "name": "stdout",
     "output_type": "stream",
     "text": [
      "[0, 2, 251, 234, 188, 33, 56, 74, 238, 81, 0, 136]\n"
     ]
    }
   ],
   "source": [
    "EB = [0x00,0x02,0xFB,0xEA,0xBC,0x21,0x38,0x4A,0xEE,0x51,0x00,0x88]\n",
    "\n",
    "print(EB)"
   ]
  },
  {
   "cell_type": "code",
   "execution_count": 48,
   "metadata": {},
   "outputs": [],
   "source": [
    "def os2ip(EB):\n",
    "    k = len(EB)\n",
    "    sum = 0\n",
    "    for i,val in enumerate(EB):        \n",
    "        sum += pow(2,8*(k-i-1))*val\n",
    "    return sum"
   ]
  },
  {
   "cell_type": "code",
   "execution_count": 49,
   "metadata": {},
   "outputs": [
    {
     "data": {
      "text/plain": [
       "3607495720721035172053128"
      ]
     },
     "execution_count": 49,
     "metadata": {},
     "output_type": "execute_result"
    }
   ],
   "source": [
    "os2ip(EB)"
   ]
  },
  {
   "cell_type": "code",
   "execution_count": 51,
   "metadata": {},
   "outputs": [
    {
     "data": {
      "text/plain": [
       "82"
      ]
     },
     "execution_count": 51,
     "metadata": {},
     "output_type": "execute_result"
    }
   ],
   "source": [
    "def i2osp(EB):"
   ]
  },
  {
   "cell_type": "code",
   "execution_count": null,
   "metadata": {},
   "outputs": [],
   "source": []
  }
 ],
 "metadata": {
  "kernelspec": {
   "display_name": "Python 3",
   "language": "python",
   "name": "python3"
  },
  "language_info": {
   "codemirror_mode": {
    "name": "ipython",
    "version": 3
   },
   "file_extension": ".py",
   "mimetype": "text/x-python",
   "name": "python",
   "nbconvert_exporter": "python",
   "pygments_lexer": "ipython3",
   "version": "3.7.1"
  }
 },
 "nbformat": 4,
 "nbformat_minor": 2
}
